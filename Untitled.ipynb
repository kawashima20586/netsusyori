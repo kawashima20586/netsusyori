{
 "cells": [
  {
   "cell_type": "code",
   "execution_count": 1,
   "id": "fcbacd20",
   "metadata": {},
   "outputs": [],
   "source": [
    "import streamlit as st\n",
    "import gspread\n",
    "import random\n"
   ]
  },
  {
   "cell_type": "code",
   "execution_count": 2,
   "id": "f207d5fb",
   "metadata": {},
   "outputs": [],
   "source": [
    "\n",
    "from google.oauth2.service_account import Credentials\n",
    "from gspread_dataframe import set_with_dataframe\n"
   ]
  },
  {
   "cell_type": "code",
   "execution_count": 3,
   "id": "fb00fd29",
   "metadata": {},
   "outputs": [],
   "source": [
    "\n",
    "scopes = [\n",
    "    'https://www.googleapis.com/auth/spreadsheets',\n",
    "    'https://www.googleapis.com/auth/drive'\n",
    "]\n"
   ]
  },
  {
   "cell_type": "code",
   "execution_count": 5,
   "id": "b5f76b76",
   "metadata": {},
   "outputs": [],
   "source": [
    "credentials = Credentials.from_service_account_file(\n",
    "    'API.json',\n",
    "    scopes=scopes\n",
    ")\n"
   ]
  },
  {
   "cell_type": "code",
   "execution_count": 6,
   "id": "3f65cf0f",
   "metadata": {},
   "outputs": [],
   "source": [
    "gc = gspread.authorize(credentials)"
   ]
  },
  {
   "cell_type": "code",
   "execution_count": 7,
   "id": "95d21f1e",
   "metadata": {},
   "outputs": [],
   "source": [
    "SP_SHEET_KEY = '1mCkBvteK3WQevKncCyRNw08yyr2ZU6QDyRNvdAik1FM'"
   ]
  },
  {
   "cell_type": "code",
   "execution_count": 8,
   "id": "3455d4f9",
   "metadata": {},
   "outputs": [],
   "source": [
    "sh = gc.open_by_key(SP_SHEET_KEY)"
   ]
  },
  {
   "cell_type": "code",
   "execution_count": 9,
   "id": "d202c446",
   "metadata": {},
   "outputs": [
    {
     "data": {
      "text/plain": [
       "<Spreadsheet '一般熱処理学科' id:1mCkBvteK3WQevKncCyRNw08yyr2ZU6QDyRNvdAik1FM>"
      ]
     },
     "execution_count": 9,
     "metadata": {},
     "output_type": "execute_result"
    }
   ],
   "source": [
    "sh"
   ]
  },
  {
   "cell_type": "code",
   "execution_count": 10,
   "id": "9c6adba1",
   "metadata": {},
   "outputs": [
    {
     "ename": "TypeError",
     "evalue": "list expected at most 1 argument, got 12",
     "output_type": "error",
     "traceback": [
      "\u001b[0;31m---------------------------------------------------------------------------\u001b[0m",
      "\u001b[0;31mTypeError\u001b[0m                                 Traceback (most recent call last)",
      "Cell \u001b[0;32mIn[10], line 1\u001b[0m\n\u001b[0;32m----> 1\u001b[0m \u001b[38;5;28;43mlist\u001b[39;49m\u001b[43m(\u001b[49m\u001b[38;5;241;43m2022\u001b[39;49m\u001b[38;5;241;43m-\u001b[39;49m\u001b[38;5;241;43m2\u001b[39;49m\u001b[43m,\u001b[49m\u001b[38;5;241;43m2022\u001b[39;49m\u001b[38;5;241;43m-\u001b[39;49m\u001b[38;5;241;43m1\u001b[39;49m\u001b[43m,\u001b[49m\u001b[38;5;241;43m2021\u001b[39;49m\u001b[38;5;241;43m-\u001b[39;49m\u001b[38;5;241;43m2\u001b[39;49m\u001b[43m,\u001b[49m\u001b[38;5;241;43m2021\u001b[39;49m\u001b[38;5;241;43m-\u001b[39;49m\u001b[38;5;241;43m1\u001b[39;49m\u001b[43m,\u001b[49m\u001b[38;5;241;43m2020\u001b[39;49m\u001b[38;5;241;43m-\u001b[39;49m\u001b[38;5;241;43m2\u001b[39;49m\u001b[43m,\u001b[49m\u001b[38;5;241;43m2020\u001b[39;49m\u001b[38;5;241;43m-\u001b[39;49m\u001b[38;5;241;43m1\u001b[39;49m\u001b[43m,\u001b[49m\u001b[38;5;241;43m2019\u001b[39;49m\u001b[38;5;241;43m-\u001b[39;49m\u001b[38;5;241;43m2\u001b[39;49m\u001b[43m,\u001b[49m\u001b[38;5;241;43m2019\u001b[39;49m\u001b[38;5;241;43m-\u001b[39;49m\u001b[38;5;241;43m1\u001b[39;49m\u001b[43m,\u001b[49m\u001b[38;5;241;43m2018\u001b[39;49m\u001b[38;5;241;43m-\u001b[39;49m\u001b[38;5;241;43m2\u001b[39;49m\u001b[43m,\u001b[49m\u001b[38;5;241;43m2018\u001b[39;49m\u001b[38;5;241;43m-\u001b[39;49m\u001b[38;5;241;43m1\u001b[39;49m\u001b[43m,\u001b[49m\u001b[38;5;241;43m2017\u001b[39;49m\u001b[38;5;241;43m-\u001b[39;49m\u001b[38;5;241;43m2\u001b[39;49m\u001b[43m,\u001b[49m\u001b[38;5;241;43m2017\u001b[39;49m\u001b[38;5;241;43m-\u001b[39;49m\u001b[38;5;241;43m1\u001b[39;49m\u001b[43m)\u001b[49m\n",
      "\u001b[0;31mTypeError\u001b[0m: list expected at most 1 argument, got 12"
     ]
    }
   ],
   "source": [
    "list(2022-2,2022-1,2021-2,2021-1,2020-2,2020-1,2019-2,2019-1,2018-2,2018-1,2017-2,2017-1)"
   ]
  },
  {
   "cell_type": "code",
   "execution_count": 11,
   "id": "76048db1",
   "metadata": {},
   "outputs": [
    {
     "ename": "TypeError",
     "evalue": "list expected at most 1 argument, got 12",
     "output_type": "error",
     "traceback": [
      "\u001b[0;31m---------------------------------------------------------------------------\u001b[0m",
      "\u001b[0;31mTypeError\u001b[0m                                 Traceback (most recent call last)",
      "Cell \u001b[0;32mIn[11], line 1\u001b[0m\n\u001b[0;32m----> 1\u001b[0m \u001b[38;5;28;43mlist\u001b[39;49m\u001b[43m(\u001b[49m\u001b[38;5;241;43m20222\u001b[39;49m\u001b[43m,\u001b[49m\u001b[38;5;241;43m20221\u001b[39;49m\u001b[43m,\u001b[49m\u001b[38;5;241;43m20212\u001b[39;49m\u001b[43m,\u001b[49m\u001b[38;5;241;43m20211\u001b[39;49m\u001b[43m,\u001b[49m\u001b[38;5;241;43m20202\u001b[39;49m\u001b[43m,\u001b[49m\u001b[38;5;241;43m20201\u001b[39;49m\u001b[43m,\u001b[49m\u001b[38;5;241;43m20192\u001b[39;49m\u001b[43m,\u001b[49m\u001b[38;5;241;43m20191\u001b[39;49m\u001b[43m,\u001b[49m\u001b[38;5;241;43m20182\u001b[39;49m\u001b[43m,\u001b[49m\u001b[38;5;241;43m20181\u001b[39;49m\u001b[43m,\u001b[49m\u001b[38;5;241;43m20172\u001b[39;49m\u001b[43m,\u001b[49m\u001b[38;5;241;43m20171\u001b[39;49m\u001b[43m)\u001b[49m\n",
      "\u001b[0;31mTypeError\u001b[0m: list expected at most 1 argument, got 12"
     ]
    }
   ],
   "source": [
    "list(20222,20221,20212,20211,20202,20201,20192,20191,20182,20181,20172,20171)"
   ]
  },
  {
   "cell_type": "code",
   "execution_count": 12,
   "id": "64dec2be",
   "metadata": {},
   "outputs": [
    {
     "data": {
      "text/plain": [
       "[2014, 2015, 2016, 2017, 2018, 2019, 2020, 2021]"
      ]
     },
     "execution_count": 12,
     "metadata": {},
     "output_type": "execute_result"
    }
   ],
   "source": [
    "list(range(2014,2022))"
   ]
  },
  {
   "cell_type": "code",
   "execution_count": null,
   "id": "154f8a30",
   "metadata": {},
   "outputs": [],
   "source": []
  },
  {
   "cell_type": "code",
   "execution_count": null,
   "id": "5080aecb",
   "metadata": {},
   "outputs": [],
   "source": []
  }
 ],
 "metadata": {
  "kernelspec": {
   "display_name": "Python 3 (ipykernel)",
   "language": "python",
   "name": "python3"
  },
  "language_info": {
   "codemirror_mode": {
    "name": "ipython",
    "version": 3
   },
   "file_extension": ".py",
   "mimetype": "text/x-python",
   "name": "python",
   "nbconvert_exporter": "python",
   "pygments_lexer": "ipython3",
   "version": "3.8.15"
  }
 },
 "nbformat": 4,
 "nbformat_minor": 5
}
